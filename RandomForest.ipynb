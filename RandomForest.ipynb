# Import Dependencies

import pandas as pd
from sklearn.model_selection import train_test_split
from imblearn.over_sampling import RandomOverSampler
from sklearn.ensemble import RandomForestClassifier
from sklearn.metrics import classification_report, confusion_matrix, accuracy_score

# Import Data from CSV file in REPO
data = pd.read_csv("/content/drive/MyDrive/Colab Notebooks/prepared_zipcode_data.csv", sep = ',')

#Prepare data
X = data.drop(['target',"ZIP", "GEOID", "NAME", "year", "major_city", "county", "state", "ZCTA5CE20", "INTPTLAT20", "INTPTLON20", "Rail_YN", "Stop_YN"], axis=1)  # Features
y = data['target']  # Target variable

#Split data into training and testing
X_train, X_test, y_train, y_test = train_test_split(X, y, test_size=0.3, random_state=42)

#Over Sample Minority Class
oversample = RandomOverSampler(sampling_strategy='minority')
X_over, y_over = oversample.fit_resample(X_train, y_train)
X_test_over, y_test_over = oversample.fit_resample(X_test, y_test)

#Initialize the Random Forest Classifier
RF_2 = RandomForestClassifier(n_estimators=500, random_state=42, class_weight='balanced')
#Train the model
RF_2.fit(X_over, y_over)

# Predictions
y_pred = model.predict(X_test_over)

# Evaluation
print("Confusion Matrix:")
print(confusion_matrix(y_test_over, y_pred))

print("\nClassification Report:")
print(classification_report(y_test_over, y_pred))

print("\nAccuracy Score:")
print(accuracy_score(y_test_over, y_pred))

#Initialize the Random Forest Classifier
RF_1 = RandomForestClassifier(n_estimators=100, random_state=42)
#Train the model
RF_1.fit(X_over, y_over)

# Predictions
y_pred = model_2.predict(X_test_over)

# Evaluation
print("Confusion Matrix:")
print(confusion_matrix(y_test_over, y_pred))

print("\nClassification Report:")
print(classification_report(y_test_over, y_pred))

print("\nAccuracy Score:")
print(accuracy_score(y_test_over, y_pred))
